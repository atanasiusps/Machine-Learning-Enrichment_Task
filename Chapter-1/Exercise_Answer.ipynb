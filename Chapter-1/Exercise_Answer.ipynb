{
 "cells": [
  {
   "cell_type": "markdown",
   "id": "782bfccd",
   "metadata": {},
   "source": [
    "# Exercise"
   ]
  },
  {
   "cell_type": "markdown",
   "id": "4dcc6edc",
   "metadata": {},
   "source": [
    "1. How would you define Machine Learning?\n",
    "- Machine Learning adalah bidang ilmu komputer yang membuat sistem dapat belajar dari data dan memperbaiki kinerjanya secara otomatis tanpa diprogram secara eksplisit."
   ]
  },
  {
   "cell_type": "markdown",
   "id": "36f6043c",
   "metadata": {},
   "source": [
    "2. Can you name four types of problems where it shines?\n",
    "- Classification\n",
    "- Regression\n",
    "- Clustering\n",
    "- Anomaly Detection\n",
    "\n"
   ]
  },
  {
   "cell_type": "markdown",
   "id": "14a7dca6",
   "metadata": {},
   "source": [
    "3. What is a labeled training set?\n",
    "- Labeled training set adalah data pelatihan yang mencakup fitur (input) dan label yang diketahui (output yang benar).\n",
    "\n"
   ]
  },
  {
   "cell_type": "markdown",
   "id": "1a6520a5",
   "metadata": {},
   "source": [
    "4. What are the two most common supervised tasks?\n",
    "- Classification\n",
    "- Regression\n"
   ]
  },
  {
   "cell_type": "markdown",
   "id": "4ab3903d",
   "metadata": {},
   "source": [
    "5. Can you name four common unsupervised tasks?\n",
    "- Clustering\n",
    "- Dimension Reduction\n",
    "- Anomaly Detection\n",
    "- Association rule learning"
   ]
  },
  {
   "cell_type": "markdown",
   "id": "c42e6bca",
   "metadata": {},
   "source": [
    "6. What type of Machine Learning algorithm would you use to allow a robot to walk in various unknown terrains?\n",
    "- Saya akan menggunakan reinforcement learning, karena robot perlu belajar dari percobaan dan umpan balik lingkungan."
   ]
  },
  {
   "cell_type": "markdown",
   "id": "1ce57e3e",
   "metadata": {},
   "source": [
    "7. What type of algorithm would you use to segment your customers into multiple groups?\n",
    "- Saya akan menggunakan clustering untuk mengelompokkan pelanggan ke dalam beberapa segmen."
   ]
  },
  {
   "cell_type": "markdown",
   "id": "44f35828",
   "metadata": {},
   "source": [
    "8. Would you frame the problem of spam detection as a supervised learning problem or an unsupervised learning problem?\n",
    "- Saya akan memandang spam detection sebagai masalah supervised learning, karena kita memiliki data email yang sudah dilabeli spam atau bukan spam.\n",
    "\n"
   ]
  },
  {
   "cell_type": "markdown",
   "id": "5a7fbf25",
   "metadata": {},
   "source": [
    "9. What is an online learning system?\n",
    "- Online learning system adalah sistem yang memproses data satu per satu atau dalam batch kecil, sehingga dapat belajar secara terus-menerus dari aliran data (data stream)."
   ]
  },
  {
   "cell_type": "markdown",
   "id": "9fce959e",
   "metadata": {},
   "source": [
    "10. What is out-of-core learning?\n",
    "- Out-of-core learning adalah teknik pembelajaran yang digunakan untuk menangani data yang terlalu besar untuk dimuat sepenuhnya ke dalam memori. Model memproses data dalam batch kecil yang disimpan di disk."
   ]
  },
  {
   "cell_type": "markdown",
   "id": "831340b8",
   "metadata": {},
   "source": [
    "11. What type of learning algorithm relies on a similarity measure to make predictions?\n",
    "- Algoritma seperti instance-based learning (contohnya k-Nearest Neighbors) menggunakan ukuran kesamaan (similarity measure) untuk membuat prediksi.\n",
    "\n"
   ]
  },
  {
   "cell_type": "markdown",
   "id": "039c53fc",
   "metadata": {},
   "source": [
    "12. What is the difference between a model parameter and a learning algorithm’s hyperparameter?\n",
    "- Model parameter adalah parameter yang dipelajari selama training (misalnya weight dalam neural network), sedangkan hyperparameter adalah parameter yang ditentukan sebelum training dimulai (misalnya learning rate, jumlah layer)."
   ]
  },
  {
   "cell_type": "markdown",
   "id": "9be17629",
   "metadata": {},
   "source": [
    "13. What do model-based learning algorithms search for? What is the most common strategy they use to succeed? How do they make predictions?\n",
    "- Model-based learning mencari model optimal yang meminimalkan loss function pada data training. Strategi umum yang digunakan adalah optimisasi (optimization) seperti Gradient Descent. Prediksi dibuat menggunakan model terlatih.\n",
    "\n"
   ]
  },
  {
   "cell_type": "markdown",
   "id": "86b1d89d",
   "metadata": {},
   "source": [
    "14. Can you name four of the main challenges in Machine Learning?\n",
    "<br><br>\n",
    "Empat tantangan utama dalam Machine Learning adalah:\n",
    "- Data berkualitas rendah atau kurang memadai\n",
    "- Overfitting\n",
    "- Underfitting\n",
    "- Skala data yang sangat besar"
   ]
  },
  {
   "cell_type": "markdown",
   "id": "fc0ba066",
   "metadata": {},
   "source": [
    "15. If your model performs great on the training data but generalizes poorly to new instances, what is happening? Can you name three possible solutions?\n",
    "<br><br>\n",
    "Ini adalah overfitting. Tiga solusi umum adalah:\n",
    "- Menggunakan regularization\n",
    "- Menyederhanakan model (reduce model complexity)\n",
    "- Menambah data training"
   ]
  },
  {
   "cell_type": "markdown",
   "id": "d2d2a714",
   "metadata": {},
   "source": [
    "16. What is a test set, and why would you want to use it?\n",
    "- Test set adalah subset data yang digunakan untuk mengevaluasi performa model pada data baru yang belum pernah dilihat sebelumnya, sehingga kita tahu seberapa baik model dapat mengeneralisasi."
   ]
  },
  {
   "cell_type": "markdown",
   "id": "abb79a7a",
   "metadata": {},
   "source": [
    "17. What is the purpose of a validation set?\n",
    "- Validation set digunakan untuk menyetel hyperparameters dan memantau performa model selama training, agar kita tidak melakukan overfitting ke training set."
   ]
  },
  {
   "cell_type": "markdown",
   "id": "a604838c",
   "metadata": {},
   "source": [
    "18. What is the train-dev set, when do you need it, and how do you use it?\n",
    "- Train-dev set adalah subset dari data training yang digunakan sebagai dev set ketika data validation atau test memiliki distribusi berbeda. Ini digunakan untuk memisahkan error akibat data yang tidak representatif dari error model itu sendiri."
   ]
  },
  {
   "cell_type": "markdown",
   "id": "2f87caa9",
   "metadata": {},
   "source": [
    "19. What can go wrong if you tune hyperparameters using the test set?\n",
    "- Jika hyperparameters disesuaikan menggunakan test set, maka model akan cenderung overfit ke test set, sehingga performa sebenarnya pada data baru (real-world data) bisa menurun."
   ]
  }
 ],
 "metadata": {
  "language_info": {
   "name": "python"
  }
 },
 "nbformat": 4,
 "nbformat_minor": 5
}
